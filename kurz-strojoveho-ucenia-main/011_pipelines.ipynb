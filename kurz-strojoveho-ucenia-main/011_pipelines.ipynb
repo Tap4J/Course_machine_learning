{
 "cells": [
  {
   "cell_type": "markdown",
   "id": "384b17b9-3447-4d72-ad76-dcf5411e4b42",
   "metadata": {},
   "source": [
    "# Scikitlearn pipelines"
   ]
  },
  {
   "cell_type": "code",
   "execution_count": 1,
   "id": "30a08cb0-7d06-4707-90b3-7d5c4390d798",
   "metadata": {},
   "outputs": [],
   "source": [
    "import pandas as pd\n",
    "import numpy as np\n",
    "\n",
    "from sklearn.model_selection import train_test_split\n",
    "from sklearn.metrics import f1_score, accuracy_score, f1_score, precision_score, recall_score, classification_report, confusion_matrix, ConfusionMatrixDisplay\n",
    "from sklearn.neighbors import KNeighborsClassifier\n",
    "from sklearn.compose import ColumnTransformer\n",
    "from sklearn.pipeline import Pipeline\n",
    "from sklearn.impute import SimpleImputer\n",
    "from sklearn.model_selection import GridSearchCV\n",
    "\n",
    "from sklearn.preprocessing import PolynomialFeatures, MinMaxScaler, OneHotEncoder, StandardScaler"
   ]
  },
  {
   "cell_type": "code",
   "execution_count": 10,
   "id": "505a749b-bd90-40f0-8b40-69f4828abd15",
   "metadata": {},
   "outputs": [],
   "source": [
    "df = pd.read_csv(\"data/general_data.csv\", index_col=\"EmployeeID\")\n",
    "df.drop(['EmployeeCount','StandardHours'],axis=1, inplace = True) # Remove boring columns \n",
    "cat_cols = list(df.dtypes[df.dtypes == 'object'].index.values)\n",
    "cat_cols.remove('Attrition') # remove target column \n",
    "num_cols = list(df.dtypes[df.dtypes != 'object'].index.values)\n",
    "\n",
    "for col in cat_cols:\n",
    "    df[col] = df[col].astype('category')\n",
    "\n",
    "X = df[df.columns.difference(['Attrition'])]\n",
    "y = df['Attrition']\n",
    "\n",
    "X_train, X_test, y_train, y_test = train_test_split(X, y, test_size=0.20, random_state=42)\n"
   ]
  },
  {
   "cell_type": "code",
   "execution_count": 3,
   "id": "27fd84b9-0d0d-4522-9657-3a8ec8b4d588",
   "metadata": {},
   "outputs": [],
   "source": [
    "numerical = Pipeline(steps=[\n",
    "    ('imputer', SimpleImputer(strategy='median')),\n",
    "    ('scaler', StandardScaler()),\n",
    "    ('poly', PolynomialFeatures(degree=2))])\n",
    "categorical = Pipeline(steps=[\n",
    "    ('imputer', SimpleImputer(strategy='constant', fill_value='missing')),\n",
    "    ('onehot', OneHotEncoder())])\n",
    "\n",
    "column_preprocessor = ColumnTransformer(\n",
    "    transformers=[\n",
    "        ('num', numerical, num_cols),\n",
    "        ('cat', categorical, cat_cols)])\n",
    "\n",
    "clf = Pipeline(steps=[('preprocessor', column_preprocessor),\n",
    "                      ('classifier', KNeighborsClassifier())])"
   ]
  },
  {
   "cell_type": "code",
   "execution_count": 4,
   "id": "128b9e1f-19e4-4b0e-aec2-cc69084611d4",
   "metadata": {},
   "outputs": [
    {
     "data": {
      "text/html": [
       "<style>#sk-container-id-1 {color: black;}#sk-container-id-1 pre{padding: 0;}#sk-container-id-1 div.sk-toggleable {background-color: white;}#sk-container-id-1 label.sk-toggleable__label {cursor: pointer;display: block;width: 100%;margin-bottom: 0;padding: 0.3em;box-sizing: border-box;text-align: center;}#sk-container-id-1 label.sk-toggleable__label-arrow:before {content: \"▸\";float: left;margin-right: 0.25em;color: #696969;}#sk-container-id-1 label.sk-toggleable__label-arrow:hover:before {color: black;}#sk-container-id-1 div.sk-estimator:hover label.sk-toggleable__label-arrow:before {color: black;}#sk-container-id-1 div.sk-toggleable__content {max-height: 0;max-width: 0;overflow: hidden;text-align: left;background-color: #f0f8ff;}#sk-container-id-1 div.sk-toggleable__content pre {margin: 0.2em;color: black;border-radius: 0.25em;background-color: #f0f8ff;}#sk-container-id-1 input.sk-toggleable__control:checked~div.sk-toggleable__content {max-height: 200px;max-width: 100%;overflow: auto;}#sk-container-id-1 input.sk-toggleable__control:checked~label.sk-toggleable__label-arrow:before {content: \"▾\";}#sk-container-id-1 div.sk-estimator input.sk-toggleable__control:checked~label.sk-toggleable__label {background-color: #d4ebff;}#sk-container-id-1 div.sk-label input.sk-toggleable__control:checked~label.sk-toggleable__label {background-color: #d4ebff;}#sk-container-id-1 input.sk-hidden--visually {border: 0;clip: rect(1px 1px 1px 1px);clip: rect(1px, 1px, 1px, 1px);height: 1px;margin: -1px;overflow: hidden;padding: 0;position: absolute;width: 1px;}#sk-container-id-1 div.sk-estimator {font-family: monospace;background-color: #f0f8ff;border: 1px dotted black;border-radius: 0.25em;box-sizing: border-box;margin-bottom: 0.5em;}#sk-container-id-1 div.sk-estimator:hover {background-color: #d4ebff;}#sk-container-id-1 div.sk-parallel-item::after {content: \"\";width: 100%;border-bottom: 1px solid gray;flex-grow: 1;}#sk-container-id-1 div.sk-label:hover label.sk-toggleable__label {background-color: #d4ebff;}#sk-container-id-1 div.sk-serial::before {content: \"\";position: absolute;border-left: 1px solid gray;box-sizing: border-box;top: 0;bottom: 0;left: 50%;z-index: 0;}#sk-container-id-1 div.sk-serial {display: flex;flex-direction: column;align-items: center;background-color: white;padding-right: 0.2em;padding-left: 0.2em;position: relative;}#sk-container-id-1 div.sk-item {position: relative;z-index: 1;}#sk-container-id-1 div.sk-parallel {display: flex;align-items: stretch;justify-content: center;background-color: white;position: relative;}#sk-container-id-1 div.sk-item::before, #sk-container-id-1 div.sk-parallel-item::before {content: \"\";position: absolute;border-left: 1px solid gray;box-sizing: border-box;top: 0;bottom: 0;left: 50%;z-index: -1;}#sk-container-id-1 div.sk-parallel-item {display: flex;flex-direction: column;z-index: 1;position: relative;background-color: white;}#sk-container-id-1 div.sk-parallel-item:first-child::after {align-self: flex-end;width: 50%;}#sk-container-id-1 div.sk-parallel-item:last-child::after {align-self: flex-start;width: 50%;}#sk-container-id-1 div.sk-parallel-item:only-child::after {width: 0;}#sk-container-id-1 div.sk-dashed-wrapped {border: 1px dashed gray;margin: 0 0.4em 0.5em 0.4em;box-sizing: border-box;padding-bottom: 0.4em;background-color: white;}#sk-container-id-1 div.sk-label label {font-family: monospace;font-weight: bold;display: inline-block;line-height: 1.2em;}#sk-container-id-1 div.sk-label-container {text-align: center;}#sk-container-id-1 div.sk-container {/* jupyter's `normalize.less` sets `[hidden] { display: none; }` but bootstrap.min.css set `[hidden] { display: none !important; }` so we also need the `!important` here to be able to override the default hidden behavior on the sphinx rendered scikit-learn.org. See: https://github.com/scikit-learn/scikit-learn/issues/21755 */display: inline-block !important;position: relative;}#sk-container-id-1 div.sk-text-repr-fallback {display: none;}</style><div id=\"sk-container-id-1\" class=\"sk-top-container\"><div class=\"sk-text-repr-fallback\"><pre>Pipeline(steps=[(&#x27;preprocessor&#x27;,\n",
       "                 ColumnTransformer(transformers=[(&#x27;num&#x27;,\n",
       "                                                  Pipeline(steps=[(&#x27;imputer&#x27;,\n",
       "                                                                   SimpleImputer(strategy=&#x27;median&#x27;)),\n",
       "                                                                  (&#x27;scaler&#x27;,\n",
       "                                                                   StandardScaler()),\n",
       "                                                                  (&#x27;poly&#x27;,\n",
       "                                                                   PolynomialFeatures())]),\n",
       "                                                  [&#x27;Age&#x27;, &#x27;DistanceFromHome&#x27;,\n",
       "                                                   &#x27;Education&#x27;, &#x27;JobLevel&#x27;,\n",
       "                                                   &#x27;MonthlyIncome&#x27;,\n",
       "                                                   &#x27;NumCompaniesWorked&#x27;,\n",
       "                                                   &#x27;PercentSalaryHike&#x27;,\n",
       "                                                   &#x27;StockOptionLevel&#x27;,\n",
       "                                                   &#x27;TotalWorkingYears&#x27;,\n",
       "                                                   &#x27;TrainingTimesLastYear&#x27;,\n",
       "                                                   &#x27;YearsAtCompany&#x27;,\n",
       "                                                   &#x27;YearsSinceLastPromotion&#x27;,\n",
       "                                                   &#x27;YearsWithCurrManager&#x27;]),\n",
       "                                                 (&#x27;cat&#x27;,\n",
       "                                                  Pipeline(steps=[(&#x27;imputer&#x27;,\n",
       "                                                                   SimpleImputer(fill_value=&#x27;missing&#x27;,\n",
       "                                                                                 strategy=&#x27;constant&#x27;)),\n",
       "                                                                  (&#x27;onehot&#x27;,\n",
       "                                                                   OneHotEncoder())]),\n",
       "                                                  [&#x27;BusinessTravel&#x27;,\n",
       "                                                   &#x27;Department&#x27;,\n",
       "                                                   &#x27;EducationField&#x27;, &#x27;Gender&#x27;,\n",
       "                                                   &#x27;JobRole&#x27;, &#x27;MaritalStatus&#x27;,\n",
       "                                                   &#x27;Over18&#x27;])])),\n",
       "                (&#x27;classifier&#x27;, KNeighborsClassifier())])</pre><b>In a Jupyter environment, please rerun this cell to show the HTML representation or trust the notebook. <br />On GitHub, the HTML representation is unable to render, please try loading this page with nbviewer.org.</b></div><div class=\"sk-container\" hidden><div class=\"sk-item sk-dashed-wrapped\"><div class=\"sk-label-container\"><div class=\"sk-label sk-toggleable\"><input class=\"sk-toggleable__control sk-hidden--visually\" id=\"sk-estimator-id-1\" type=\"checkbox\" ><label for=\"sk-estimator-id-1\" class=\"sk-toggleable__label sk-toggleable__label-arrow\">Pipeline</label><div class=\"sk-toggleable__content\"><pre>Pipeline(steps=[(&#x27;preprocessor&#x27;,\n",
       "                 ColumnTransformer(transformers=[(&#x27;num&#x27;,\n",
       "                                                  Pipeline(steps=[(&#x27;imputer&#x27;,\n",
       "                                                                   SimpleImputer(strategy=&#x27;median&#x27;)),\n",
       "                                                                  (&#x27;scaler&#x27;,\n",
       "                                                                   StandardScaler()),\n",
       "                                                                  (&#x27;poly&#x27;,\n",
       "                                                                   PolynomialFeatures())]),\n",
       "                                                  [&#x27;Age&#x27;, &#x27;DistanceFromHome&#x27;,\n",
       "                                                   &#x27;Education&#x27;, &#x27;JobLevel&#x27;,\n",
       "                                                   &#x27;MonthlyIncome&#x27;,\n",
       "                                                   &#x27;NumCompaniesWorked&#x27;,\n",
       "                                                   &#x27;PercentSalaryHike&#x27;,\n",
       "                                                   &#x27;StockOptionLevel&#x27;,\n",
       "                                                   &#x27;TotalWorkingYears&#x27;,\n",
       "                                                   &#x27;TrainingTimesLastYear&#x27;,\n",
       "                                                   &#x27;YearsAtCompany&#x27;,\n",
       "                                                   &#x27;YearsSinceLastPromotion&#x27;,\n",
       "                                                   &#x27;YearsWithCurrManager&#x27;]),\n",
       "                                                 (&#x27;cat&#x27;,\n",
       "                                                  Pipeline(steps=[(&#x27;imputer&#x27;,\n",
       "                                                                   SimpleImputer(fill_value=&#x27;missing&#x27;,\n",
       "                                                                                 strategy=&#x27;constant&#x27;)),\n",
       "                                                                  (&#x27;onehot&#x27;,\n",
       "                                                                   OneHotEncoder())]),\n",
       "                                                  [&#x27;BusinessTravel&#x27;,\n",
       "                                                   &#x27;Department&#x27;,\n",
       "                                                   &#x27;EducationField&#x27;, &#x27;Gender&#x27;,\n",
       "                                                   &#x27;JobRole&#x27;, &#x27;MaritalStatus&#x27;,\n",
       "                                                   &#x27;Over18&#x27;])])),\n",
       "                (&#x27;classifier&#x27;, KNeighborsClassifier())])</pre></div></div></div><div class=\"sk-serial\"><div class=\"sk-item sk-dashed-wrapped\"><div class=\"sk-label-container\"><div class=\"sk-label sk-toggleable\"><input class=\"sk-toggleable__control sk-hidden--visually\" id=\"sk-estimator-id-2\" type=\"checkbox\" ><label for=\"sk-estimator-id-2\" class=\"sk-toggleable__label sk-toggleable__label-arrow\">preprocessor: ColumnTransformer</label><div class=\"sk-toggleable__content\"><pre>ColumnTransformer(transformers=[(&#x27;num&#x27;,\n",
       "                                 Pipeline(steps=[(&#x27;imputer&#x27;,\n",
       "                                                  SimpleImputer(strategy=&#x27;median&#x27;)),\n",
       "                                                 (&#x27;scaler&#x27;, StandardScaler()),\n",
       "                                                 (&#x27;poly&#x27;,\n",
       "                                                  PolynomialFeatures())]),\n",
       "                                 [&#x27;Age&#x27;, &#x27;DistanceFromHome&#x27;, &#x27;Education&#x27;,\n",
       "                                  &#x27;JobLevel&#x27;, &#x27;MonthlyIncome&#x27;,\n",
       "                                  &#x27;NumCompaniesWorked&#x27;, &#x27;PercentSalaryHike&#x27;,\n",
       "                                  &#x27;StockOptionLevel&#x27;, &#x27;TotalWorkingYears&#x27;,\n",
       "                                  &#x27;TrainingTimesLastYear&#x27;, &#x27;YearsAtCompany&#x27;,\n",
       "                                  &#x27;YearsSinceLastPromotion&#x27;,\n",
       "                                  &#x27;YearsWithCurrManager&#x27;]),\n",
       "                                (&#x27;cat&#x27;,\n",
       "                                 Pipeline(steps=[(&#x27;imputer&#x27;,\n",
       "                                                  SimpleImputer(fill_value=&#x27;missing&#x27;,\n",
       "                                                                strategy=&#x27;constant&#x27;)),\n",
       "                                                 (&#x27;onehot&#x27;, OneHotEncoder())]),\n",
       "                                 [&#x27;BusinessTravel&#x27;, &#x27;Department&#x27;,\n",
       "                                  &#x27;EducationField&#x27;, &#x27;Gender&#x27;, &#x27;JobRole&#x27;,\n",
       "                                  &#x27;MaritalStatus&#x27;, &#x27;Over18&#x27;])])</pre></div></div></div><div class=\"sk-parallel\"><div class=\"sk-parallel-item\"><div class=\"sk-item\"><div class=\"sk-label-container\"><div class=\"sk-label sk-toggleable\"><input class=\"sk-toggleable__control sk-hidden--visually\" id=\"sk-estimator-id-3\" type=\"checkbox\" ><label for=\"sk-estimator-id-3\" class=\"sk-toggleable__label sk-toggleable__label-arrow\">num</label><div class=\"sk-toggleable__content\"><pre>[&#x27;Age&#x27;, &#x27;DistanceFromHome&#x27;, &#x27;Education&#x27;, &#x27;JobLevel&#x27;, &#x27;MonthlyIncome&#x27;, &#x27;NumCompaniesWorked&#x27;, &#x27;PercentSalaryHike&#x27;, &#x27;StockOptionLevel&#x27;, &#x27;TotalWorkingYears&#x27;, &#x27;TrainingTimesLastYear&#x27;, &#x27;YearsAtCompany&#x27;, &#x27;YearsSinceLastPromotion&#x27;, &#x27;YearsWithCurrManager&#x27;]</pre></div></div></div><div class=\"sk-serial\"><div class=\"sk-item\"><div class=\"sk-serial\"><div class=\"sk-item\"><div class=\"sk-estimator sk-toggleable\"><input class=\"sk-toggleable__control sk-hidden--visually\" id=\"sk-estimator-id-4\" type=\"checkbox\" ><label for=\"sk-estimator-id-4\" class=\"sk-toggleable__label sk-toggleable__label-arrow\">SimpleImputer</label><div class=\"sk-toggleable__content\"><pre>SimpleImputer(strategy=&#x27;median&#x27;)</pre></div></div></div><div class=\"sk-item\"><div class=\"sk-estimator sk-toggleable\"><input class=\"sk-toggleable__control sk-hidden--visually\" id=\"sk-estimator-id-5\" type=\"checkbox\" ><label for=\"sk-estimator-id-5\" class=\"sk-toggleable__label sk-toggleable__label-arrow\">StandardScaler</label><div class=\"sk-toggleable__content\"><pre>StandardScaler()</pre></div></div></div><div class=\"sk-item\"><div class=\"sk-estimator sk-toggleable\"><input class=\"sk-toggleable__control sk-hidden--visually\" id=\"sk-estimator-id-6\" type=\"checkbox\" ><label for=\"sk-estimator-id-6\" class=\"sk-toggleable__label sk-toggleable__label-arrow\">PolynomialFeatures</label><div class=\"sk-toggleable__content\"><pre>PolynomialFeatures()</pre></div></div></div></div></div></div></div></div><div class=\"sk-parallel-item\"><div class=\"sk-item\"><div class=\"sk-label-container\"><div class=\"sk-label sk-toggleable\"><input class=\"sk-toggleable__control sk-hidden--visually\" id=\"sk-estimator-id-7\" type=\"checkbox\" ><label for=\"sk-estimator-id-7\" class=\"sk-toggleable__label sk-toggleable__label-arrow\">cat</label><div class=\"sk-toggleable__content\"><pre>[&#x27;BusinessTravel&#x27;, &#x27;Department&#x27;, &#x27;EducationField&#x27;, &#x27;Gender&#x27;, &#x27;JobRole&#x27;, &#x27;MaritalStatus&#x27;, &#x27;Over18&#x27;]</pre></div></div></div><div class=\"sk-serial\"><div class=\"sk-item\"><div class=\"sk-serial\"><div class=\"sk-item\"><div class=\"sk-estimator sk-toggleable\"><input class=\"sk-toggleable__control sk-hidden--visually\" id=\"sk-estimator-id-8\" type=\"checkbox\" ><label for=\"sk-estimator-id-8\" class=\"sk-toggleable__label sk-toggleable__label-arrow\">SimpleImputer</label><div class=\"sk-toggleable__content\"><pre>SimpleImputer(fill_value=&#x27;missing&#x27;, strategy=&#x27;constant&#x27;)</pre></div></div></div><div class=\"sk-item\"><div class=\"sk-estimator sk-toggleable\"><input class=\"sk-toggleable__control sk-hidden--visually\" id=\"sk-estimator-id-9\" type=\"checkbox\" ><label for=\"sk-estimator-id-9\" class=\"sk-toggleable__label sk-toggleable__label-arrow\">OneHotEncoder</label><div class=\"sk-toggleable__content\"><pre>OneHotEncoder()</pre></div></div></div></div></div></div></div></div></div></div><div class=\"sk-item\"><div class=\"sk-estimator sk-toggleable\"><input class=\"sk-toggleable__control sk-hidden--visually\" id=\"sk-estimator-id-10\" type=\"checkbox\" ><label for=\"sk-estimator-id-10\" class=\"sk-toggleable__label sk-toggleable__label-arrow\">KNeighborsClassifier</label><div class=\"sk-toggleable__content\"><pre>KNeighborsClassifier()</pre></div></div></div></div></div></div></div>"
      ],
      "text/plain": [
       "Pipeline(steps=[('preprocessor',\n",
       "                 ColumnTransformer(transformers=[('num',\n",
       "                                                  Pipeline(steps=[('imputer',\n",
       "                                                                   SimpleImputer(strategy='median')),\n",
       "                                                                  ('scaler',\n",
       "                                                                   StandardScaler()),\n",
       "                                                                  ('poly',\n",
       "                                                                   PolynomialFeatures())]),\n",
       "                                                  ['Age', 'DistanceFromHome',\n",
       "                                                   'Education', 'JobLevel',\n",
       "                                                   'MonthlyIncome',\n",
       "                                                   'NumCompaniesWorked',\n",
       "                                                   'PercentSalaryHike',\n",
       "                                                   'StockOptionLevel',\n",
       "                                                   'TotalWorkingYears',\n",
       "                                                   'TrainingTimesLastYear',\n",
       "                                                   'YearsAtCompany',\n",
       "                                                   'YearsSinceLastPromotion',\n",
       "                                                   'YearsWithCurrManager']),\n",
       "                                                 ('cat',\n",
       "                                                  Pipeline(steps=[('imputer',\n",
       "                                                                   SimpleImputer(fill_value='missing',\n",
       "                                                                                 strategy='constant')),\n",
       "                                                                  ('onehot',\n",
       "                                                                   OneHotEncoder())]),\n",
       "                                                  ['BusinessTravel',\n",
       "                                                   'Department',\n",
       "                                                   'EducationField', 'Gender',\n",
       "                                                   'JobRole', 'MaritalStatus',\n",
       "                                                   'Over18'])])),\n",
       "                ('classifier', KNeighborsClassifier())])"
      ]
     },
     "execution_count": 4,
     "metadata": {},
     "output_type": "execute_result"
    }
   ],
   "source": [
    "from sklearn import set_config\n",
    "set_config(display='diagram')\n",
    "clf"
   ]
  },
  {
   "cell_type": "code",
   "execution_count": 11,
   "id": "ab9390f6-8aae-4d29-b196-a27df62d8bdd",
   "metadata": {},
   "outputs": [
    {
     "data": {
      "text/plain": [
       "((3528, 20), (3528,), (882, 20))"
      ]
     },
     "execution_count": 11,
     "metadata": {},
     "output_type": "execute_result"
    }
   ],
   "source": [
    "X_train.shape, y_train.shape, X_test.shape"
   ]
  },
  {
   "cell_type": "code",
   "execution_count": 5,
   "id": "bbdf37e2-cc12-4615-8743-2d14bf66cf34",
   "metadata": {},
   "outputs": [
    {
     "name": "stdout",
     "output_type": "stream",
     "text": [
      "Fitting 3 folds for each of 12 candidates, totalling 36 fits\n"
     ]
    },
    {
     "name": "stderr",
     "output_type": "stream",
     "text": [
      "C:\\Kurzy\\Pandas\\env\\Lib\\site-packages\\sklearn\\model_selection\\_search.py:976: UserWarning: One or more of the test scores are non-finite: [       nan 0.95578231        nan        nan 0.84608844        nan\n",
      "        nan 0.84212018        nan        nan 0.84212018        nan]\n",
      "  warnings.warn(\n"
     ]
    }
   ],
   "source": [
    "param_dict = { \n",
    "    \"classifier__n_neighbors\": list(range(1,20,5)),\n",
    "    \"classifier__p\": [1,2,3]\n",
    "}\n",
    "\n",
    "grid = GridSearchCV(clf, param_dict, cv=3, verbose=1, n_jobs=-1)\n",
    "best_model = grid.fit(X_train, y_train)"
   ]
  },
  {
   "cell_type": "code",
   "execution_count": 6,
   "id": "1d2daaa0-52ae-4855-9639-8ae30c0225e5",
   "metadata": {},
   "outputs": [
    {
     "name": "stdout",
     "output_type": "stream",
     "text": [
      "0.9897959183673469\n",
      "0.9850981767180926\n",
      "0.9766991127573434\n",
      "              precision    recall  f1-score   support\n",
      "\n",
      "          No       0.99      1.00      0.99       741\n",
      "         Yes       0.98      0.96      0.97       141\n",
      "\n",
      "    accuracy                           0.99       882\n",
      "   macro avg       0.99      0.98      0.98       882\n",
      "weighted avg       0.99      0.99      0.99       882\n",
      "\n"
     ]
    },
    {
     "ename": "NameError",
     "evalue": "name 'plot_confusion_matrix' is not defined",
     "output_type": "error",
     "traceback": [
      "\u001b[1;31m---------------------------------------------------------------------------\u001b[0m",
      "\u001b[1;31mNameError\u001b[0m                                 Traceback (most recent call last)",
      "Cell \u001b[1;32mIn[6], line 10\u001b[0m\n\u001b[0;32m      7\u001b[0m \u001b[38;5;28mprint\u001b[39m(recall_score(y_test, y_pred, average\u001b[38;5;241m=\u001b[39m\u001b[38;5;124m\"\u001b[39m\u001b[38;5;124mmacro\u001b[39m\u001b[38;5;124m\"\u001b[39m))\n\u001b[0;32m      8\u001b[0m \u001b[38;5;28mprint\u001b[39m(classification_report(y_test,y_pred))\n\u001b[1;32m---> 10\u001b[0m \u001b[43mplot_confusion_matrix\u001b[49m(best_knn, X_test, y_test)\n",
      "\u001b[1;31mNameError\u001b[0m: name 'plot_confusion_matrix' is not defined"
     ]
    }
   ],
   "source": [
    "best_knn = best_model.best_estimator_\n",
    "# neigh.fit(X_train, y_train) \n",
    "y_pred = best_knn.predict(X_test)\n",
    "\n",
    "print(f1_score(y_test, y_pred, average='micro'))\n",
    "print(precision_score(y_test, y_pred, average=\"macro\"))\n",
    "print(recall_score(y_test, y_pred, average=\"macro\"))\n",
    "print(classification_report(y_test,y_pred))\n",
    "\n",
    "plot_confusion_matrix(best_knn, X_test, y_test)"
   ]
  },
  {
   "cell_type": "code",
   "execution_count": 7,
   "id": "50836eb1-6d72-4722-ac54-0c0f0f173808",
   "metadata": {},
   "outputs": [
    {
     "name": "stdout",
     "output_type": "stream",
     "text": [
      "Fitting 3 folds for each of 108 candidates, totalling 324 fits\n"
     ]
    },
    {
     "name": "stderr",
     "output_type": "stream",
     "text": [
      "C:\\Kurzy\\Pandas\\env\\Lib\\site-packages\\sklearn\\model_selection\\_search.py:976: UserWarning: One or more of the test scores are non-finite: [       nan        nan        nan        nan        nan        nan\n",
      "        nan        nan        nan 0.95833333 0.95578231 0.95323129\n",
      " 0.95833333 0.95578231 0.95323129 0.95833333 0.95578231 0.95323129\n",
      "        nan        nan        nan        nan        nan        nan\n",
      "        nan        nan        nan        nan        nan        nan\n",
      "        nan        nan        nan        nan        nan        nan\n",
      " 0.85034014 0.84637188 0.85034014 0.8494898  0.84608844 0.85005669\n",
      " 0.8494898  0.84608844 0.85034014        nan        nan        nan\n",
      "        nan        nan        nan        nan        nan        nan\n",
      "        nan        nan        nan        nan        nan        nan\n",
      "        nan        nan        nan 0.83843537 0.84212018 0.84438776\n",
      " 0.83871882 0.84212018 0.84353741 0.83843537 0.84155329 0.84382086\n",
      "        nan        nan        nan        nan        nan        nan\n",
      "        nan        nan        nan        nan        nan        nan\n",
      "        nan        nan        nan        nan        nan        nan\n",
      " 0.84268707 0.84183673 0.83956916 0.84297052 0.84212018 0.84070295\n",
      " 0.84325397 0.84240363 0.84070295        nan        nan        nan\n",
      "        nan        nan        nan        nan        nan        nan]\n",
      "  warnings.warn(\n"
     ]
    }
   ],
   "source": [
    "param_dict = { \n",
    "    \"preprocessor__num__poly__degree\": [1,2,3],\n",
    "    \"preprocessor__num__imputer__strategy\": [\"mean\", \"median\", \"most_frequent\"],\n",
    "    \"classifier__n_neighbors\": list(range(1,20,5)),\n",
    "    \"classifier__p\": [1,2,3]\n",
    "}\n",
    "\n",
    "grid = GridSearchCV(clf, param_dict, cv=3, verbose=1, n_jobs=-1)\n",
    "best_model = grid.fit(X_train, y_train)"
   ]
  },
  {
   "cell_type": "code",
   "execution_count": 8,
   "id": "78703cea-206a-49f6-a14f-6b0e473019b2",
   "metadata": {},
   "outputs": [
    {
     "name": "stdout",
     "output_type": "stream",
     "text": [
      "0.9863945578231292\n",
      "0.9746748212593678\n",
      "0.9746748212593678\n",
      "              precision    recall  f1-score   support\n",
      "\n",
      "          No       0.99      0.99      0.99       741\n",
      "         Yes       0.96      0.96      0.96       141\n",
      "\n",
      "    accuracy                           0.99       882\n",
      "   macro avg       0.97      0.97      0.97       882\n",
      "weighted avg       0.99      0.99      0.99       882\n",
      "\n"
     ]
    },
    {
     "data": {
      "text/plain": [
       "<sklearn.metrics._plot.confusion_matrix.ConfusionMatrixDisplay at 0x22191d4c510>"
      ]
     },
     "execution_count": 8,
     "metadata": {},
     "output_type": "execute_result"
    },
    {
     "data": {
      "image/png": "[encoded data removed]",
      "text/plain": [
       "<Figure size 640x480 with 2 Axes>"
      ]
     },
     "metadata": {},
     "output_type": "display_data"
    }
   ],
   "source": [
    "best_knn = best_model.best_estimator_\n",
    "# neigh.fit(X_train, y_train) \n",
    "y_pred = best_knn.predict(X_test)\n",
    "\n",
    "print(f1_score(y_test, y_pred, average='micro'))\n",
    "print(precision_score(y_test, y_pred, average=\"macro\"))\n",
    "print(recall_score(y_test, y_pred, average=\"macro\"))\n",
    "print(classification_report(y_test,y_pred))\n",
    "\n",
    "ConfusionMatrixDisplay.from_predictions(y_test, y_pred)"
   ]
  },
  {
   "cell_type": "code",
   "execution_count": 9,
   "id": "79af09cb-7d35-4d8a-8b17-ad81221badba",
   "metadata": {},
   "outputs": [
    {
     "data": {
      "text/html": [
       "<style>#sk-container-id-2 {color: black;}#sk-container-id-2 pre{padding: 0;}#sk-container-id-2 div.sk-toggleable {background-color: white;}#sk-container-id-2 label.sk-toggleable__label {cursor: pointer;display: block;width: 100%;margin-bottom: 0;padding: 0.3em;box-sizing: border-box;text-align: center;}#sk-container-id-2 label.sk-toggleable__label-arrow:before {content: \"▸\";float: left;margin-right: 0.25em;color: #696969;}#sk-container-id-2 label.sk-toggleable__label-arrow:hover:before {color: black;}#sk-container-id-2 div.sk-estimator:hover label.sk-toggleable__label-arrow:before {color: black;}#sk-container-id-2 div.sk-toggleable__content {max-height: 0;max-width: 0;overflow: hidden;text-align: left;background-color: #f0f8ff;}#sk-container-id-2 div.sk-toggleable__content pre {margin: 0.2em;color: black;border-radius: 0.25em;background-color: #f0f8ff;}#sk-container-id-2 input.sk-toggleable__control:checked~div.sk-toggleable__content {max-height: 200px;max-width: 100%;overflow: auto;}#sk-container-id-2 input.sk-toggleable__control:checked~label.sk-toggleable__label-arrow:before {content: \"▾\";}#sk-container-id-2 div.sk-estimator input.sk-toggleable__control:checked~label.sk-toggleable__label {background-color: #d4ebff;}#sk-container-id-2 div.sk-label input.sk-toggleable__control:checked~label.sk-toggleable__label {background-color: #d4ebff;}#sk-container-id-2 input.sk-hidden--visually {border: 0;clip: rect(1px 1px 1px 1px);clip: rect(1px, 1px, 1px, 1px);height: 1px;margin: -1px;overflow: hidden;padding: 0;position: absolute;width: 1px;}#sk-container-id-2 div.sk-estimator {font-family: monospace;background-color: #f0f8ff;border: 1px dotted black;border-radius: 0.25em;box-sizing: border-box;margin-bottom: 0.5em;}#sk-container-id-2 div.sk-estimator:hover {background-color: #d4ebff;}#sk-container-id-2 div.sk-parallel-item::after {content: \"\";width: 100%;border-bottom: 1px solid gray;flex-grow: 1;}#sk-container-id-2 div.sk-label:hover label.sk-toggleable__label {background-color: #d4ebff;}#sk-container-id-2 div.sk-serial::before {content: \"\";position: absolute;border-left: 1px solid gray;box-sizing: border-box;top: 0;bottom: 0;left: 50%;z-index: 0;}#sk-container-id-2 div.sk-serial {display: flex;flex-direction: column;align-items: center;background-color: white;padding-right: 0.2em;padding-left: 0.2em;position: relative;}#sk-container-id-2 div.sk-item {position: relative;z-index: 1;}#sk-container-id-2 div.sk-parallel {display: flex;align-items: stretch;justify-content: center;background-color: white;position: relative;}#sk-container-id-2 div.sk-item::before, #sk-container-id-2 div.sk-parallel-item::before {content: \"\";position: absolute;border-left: 1px solid gray;box-sizing: border-box;top: 0;bottom: 0;left: 50%;z-index: -1;}#sk-container-id-2 div.sk-parallel-item {display: flex;flex-direction: column;z-index: 1;position: relative;background-color: white;}#sk-container-id-2 div.sk-parallel-item:first-child::after {align-self: flex-end;width: 50%;}#sk-container-id-2 div.sk-parallel-item:last-child::after {align-self: flex-start;width: 50%;}#sk-container-id-2 div.sk-parallel-item:only-child::after {width: 0;}#sk-container-id-2 div.sk-dashed-wrapped {border: 1px dashed gray;margin: 0 0.4em 0.5em 0.4em;box-sizing: border-box;padding-bottom: 0.4em;background-color: white;}#sk-container-id-2 div.sk-label label {font-family: monospace;font-weight: bold;display: inline-block;line-height: 1.2em;}#sk-container-id-2 div.sk-label-container {text-align: center;}#sk-container-id-2 div.sk-container {/* jupyter's `normalize.less` sets `[hidden] { display: none; }` but bootstrap.min.css set `[hidden] { display: none !important; }` so we also need the `!important` here to be able to override the default hidden behavior on the sphinx rendered scikit-learn.org. See: https://github.com/scikit-learn/scikit-learn/issues/21755 */display: inline-block !important;position: relative;}#sk-container-id-2 div.sk-text-repr-fallback {display: none;}</style><div id=\"sk-container-id-2\" class=\"sk-top-container\"><div class=\"sk-text-repr-fallback\"><pre>Pipeline(steps=[(&#x27;preprocessor&#x27;,\n",
       "                 ColumnTransformer(transformers=[(&#x27;num&#x27;,\n",
       "                                                  Pipeline(steps=[(&#x27;imputer&#x27;,\n",
       "                                                                   SimpleImputer(strategy=&#x27;median&#x27;)),\n",
       "                                                                  (&#x27;scaler&#x27;,\n",
       "                                                                   StandardScaler()),\n",
       "                                                                  (&#x27;poly&#x27;,\n",
       "                                                                   PolynomialFeatures())]),\n",
       "                                                  [&#x27;Age&#x27;, &#x27;DistanceFromHome&#x27;,\n",
       "                                                   &#x27;Education&#x27;, &#x27;JobLevel&#x27;,\n",
       "                                                   &#x27;MonthlyIncome&#x27;,\n",
       "                                                   &#x27;NumCompaniesWorked&#x27;,\n",
       "                                                   &#x27;PercentSalaryHike&#x27;,\n",
       "                                                   &#x27;StockOptionLevel&#x27;,\n",
       "                                                   &#x27;TotalWorkingYears&#x27;,\n",
       "                                                   &#x27;TrainingTime...\n",
       "                                                   &#x27;YearsSinceLastPromotion&#x27;,\n",
       "                                                   &#x27;YearsWithCurrManager&#x27;]),\n",
       "                                                 (&#x27;cat&#x27;,\n",
       "                                                  Pipeline(steps=[(&#x27;imputer&#x27;,\n",
       "                                                                   SimpleImputer(fill_value=&#x27;missing&#x27;,\n",
       "                                                                                 strategy=&#x27;constant&#x27;)),\n",
       "                                                                  (&#x27;onehot&#x27;,\n",
       "                                                                   OneHotEncoder())]),\n",
       "                                                  [&#x27;BusinessTravel&#x27;,\n",
       "                                                   &#x27;Department&#x27;,\n",
       "                                                   &#x27;EducationField&#x27;, &#x27;Gender&#x27;,\n",
       "                                                   &#x27;JobRole&#x27;, &#x27;MaritalStatus&#x27;,\n",
       "                                                   &#x27;Over18&#x27;])])),\n",
       "                (&#x27;RFE&#x27;, RFE(estimator=LogisticRegression())),\n",
       "                (&#x27;classifier&#x27;, KNeighborsClassifier())])</pre><b>In a Jupyter environment, please rerun this cell to show the HTML representation or trust the notebook. <br />On GitHub, the HTML representation is unable to render, please try loading this page with nbviewer.org.</b></div><div class=\"sk-container\" hidden><div class=\"sk-item sk-dashed-wrapped\"><div class=\"sk-label-container\"><div class=\"sk-label sk-toggleable\"><input class=\"sk-toggleable__control sk-hidden--visually\" id=\"sk-estimator-id-11\" type=\"checkbox\" ><label for=\"sk-estimator-id-11\" class=\"sk-toggleable__label sk-toggleable__label-arrow\">Pipeline</label><div class=\"sk-toggleable__content\"><pre>Pipeline(steps=[(&#x27;preprocessor&#x27;,\n",
       "                 ColumnTransformer(transformers=[(&#x27;num&#x27;,\n",
       "                                                  Pipeline(steps=[(&#x27;imputer&#x27;,\n",
       "                                                                   SimpleImputer(strategy=&#x27;median&#x27;)),\n",
       "                                                                  (&#x27;scaler&#x27;,\n",
       "                                                                   StandardScaler()),\n",
       "                                                                  (&#x27;poly&#x27;,\n",
       "                                                                   PolynomialFeatures())]),\n",
       "                                                  [&#x27;Age&#x27;, &#x27;DistanceFromHome&#x27;,\n",
       "                                                   &#x27;Education&#x27;, &#x27;JobLevel&#x27;,\n",
       "                                                   &#x27;MonthlyIncome&#x27;,\n",
       "                                                   &#x27;NumCompaniesWorked&#x27;,\n",
       "                                                   &#x27;PercentSalaryHike&#x27;,\n",
       "                                                   &#x27;StockOptionLevel&#x27;,\n",
       "                                                   &#x27;TotalWorkingYears&#x27;,\n",
       "                                                   &#x27;TrainingTime...\n",
       "                                                   &#x27;YearsSinceLastPromotion&#x27;,\n",
       "                                                   &#x27;YearsWithCurrManager&#x27;]),\n",
       "                                                 (&#x27;cat&#x27;,\n",
       "                                                  Pipeline(steps=[(&#x27;imputer&#x27;,\n",
       "                                                                   SimpleImputer(fill_value=&#x27;missing&#x27;,\n",
       "                                                                                 strategy=&#x27;constant&#x27;)),\n",
       "                                                                  (&#x27;onehot&#x27;,\n",
       "                                                                   OneHotEncoder())]),\n",
       "                                                  [&#x27;BusinessTravel&#x27;,\n",
       "                                                   &#x27;Department&#x27;,\n",
       "                                                   &#x27;EducationField&#x27;, &#x27;Gender&#x27;,\n",
       "                                                   &#x27;JobRole&#x27;, &#x27;MaritalStatus&#x27;,\n",
       "                                                   &#x27;Over18&#x27;])])),\n",
       "                (&#x27;RFE&#x27;, RFE(estimator=LogisticRegression())),\n",
       "                (&#x27;classifier&#x27;, KNeighborsClassifier())])</pre></div></div></div><div class=\"sk-serial\"><div class=\"sk-item sk-dashed-wrapped\"><div class=\"sk-label-container\"><div class=\"sk-label sk-toggleable\"><input class=\"sk-toggleable__control sk-hidden--visually\" id=\"sk-estimator-id-12\" type=\"checkbox\" ><label for=\"sk-estimator-id-12\" class=\"sk-toggleable__label sk-toggleable__label-arrow\">preprocessor: ColumnTransformer</label><div class=\"sk-toggleable__content\"><pre>ColumnTransformer(transformers=[(&#x27;num&#x27;,\n",
       "                                 Pipeline(steps=[(&#x27;imputer&#x27;,\n",
       "                                                  SimpleImputer(strategy=&#x27;median&#x27;)),\n",
       "                                                 (&#x27;scaler&#x27;, StandardScaler()),\n",
       "                                                 (&#x27;poly&#x27;,\n",
       "                                                  PolynomialFeatures())]),\n",
       "                                 [&#x27;Age&#x27;, &#x27;DistanceFromHome&#x27;, &#x27;Education&#x27;,\n",
       "                                  &#x27;JobLevel&#x27;, &#x27;MonthlyIncome&#x27;,\n",
       "                                  &#x27;NumCompaniesWorked&#x27;, &#x27;PercentSalaryHike&#x27;,\n",
       "                                  &#x27;StockOptionLevel&#x27;, &#x27;TotalWorkingYears&#x27;,\n",
       "                                  &#x27;TrainingTimesLastYear&#x27;, &#x27;YearsAtCompany&#x27;,\n",
       "                                  &#x27;YearsSinceLastPromotion&#x27;,\n",
       "                                  &#x27;YearsWithCurrManager&#x27;]),\n",
       "                                (&#x27;cat&#x27;,\n",
       "                                 Pipeline(steps=[(&#x27;imputer&#x27;,\n",
       "                                                  SimpleImputer(fill_value=&#x27;missing&#x27;,\n",
       "                                                                strategy=&#x27;constant&#x27;)),\n",
       "                                                 (&#x27;onehot&#x27;, OneHotEncoder())]),\n",
       "                                 [&#x27;BusinessTravel&#x27;, &#x27;Department&#x27;,\n",
       "                                  &#x27;EducationField&#x27;, &#x27;Gender&#x27;, &#x27;JobRole&#x27;,\n",
       "                                  &#x27;MaritalStatus&#x27;, &#x27;Over18&#x27;])])</pre></div></div></div><div class=\"sk-parallel\"><div class=\"sk-parallel-item\"><div class=\"sk-item\"><div class=\"sk-label-container\"><div class=\"sk-label sk-toggleable\"><input class=\"sk-toggleable__control sk-hidden--visually\" id=\"sk-estimator-id-13\" type=\"checkbox\" ><label for=\"sk-estimator-id-13\" class=\"sk-toggleable__label sk-toggleable__label-arrow\">num</label><div class=\"sk-toggleable__content\"><pre>[&#x27;Age&#x27;, &#x27;DistanceFromHome&#x27;, &#x27;Education&#x27;, &#x27;JobLevel&#x27;, &#x27;MonthlyIncome&#x27;, &#x27;NumCompaniesWorked&#x27;, &#x27;PercentSalaryHike&#x27;, &#x27;StockOptionLevel&#x27;, &#x27;TotalWorkingYears&#x27;, &#x27;TrainingTimesLastYear&#x27;, &#x27;YearsAtCompany&#x27;, &#x27;YearsSinceLastPromotion&#x27;, &#x27;YearsWithCurrManager&#x27;]</pre></div></div></div><div class=\"sk-serial\"><div class=\"sk-item\"><div class=\"sk-serial\"><div class=\"sk-item\"><div class=\"sk-estimator sk-toggleable\"><input class=\"sk-toggleable__control sk-hidden--visually\" id=\"sk-estimator-id-14\" type=\"checkbox\" ><label for=\"sk-estimator-id-14\" class=\"sk-toggleable__label sk-toggleable__label-arrow\">SimpleImputer</label><div class=\"sk-toggleable__content\"><pre>SimpleImputer(strategy=&#x27;median&#x27;)</pre></div></div></div><div class=\"sk-item\"><div class=\"sk-estimator sk-toggleable\"><input class=\"sk-toggleable__control sk-hidden--visually\" id=\"sk-estimator-id-15\" type=\"checkbox\" ><label for=\"sk-estimator-id-15\" class=\"sk-toggleable__label sk-toggleable__label-arrow\">StandardScaler</label><div class=\"sk-toggleable__content\"><pre>StandardScaler()</pre></div></div></div><div class=\"sk-item\"><div class=\"sk-estimator sk-toggleable\"><input class=\"sk-toggleable__control sk-hidden--visually\" id=\"sk-estimator-id-16\" type=\"checkbox\" ><label for=\"sk-estimator-id-16\" class=\"sk-toggleable__label sk-toggleable__label-arrow\">PolynomialFeatures</label><div class=\"sk-toggleable__content\"><pre>PolynomialFeatures()</pre></div></div></div></div></div></div></div></div><div class=\"sk-parallel-item\"><div class=\"sk-item\"><div class=\"sk-label-container\"><div class=\"sk-label sk-toggleable\"><input class=\"sk-toggleable__control sk-hidden--visually\" id=\"sk-estimator-id-17\" type=\"checkbox\" ><label for=\"sk-estimator-id-17\" class=\"sk-toggleable__label sk-toggleable__label-arrow\">cat</label><div class=\"sk-toggleable__content\"><pre>[&#x27;BusinessTravel&#x27;, &#x27;Department&#x27;, &#x27;EducationField&#x27;, &#x27;Gender&#x27;, &#x27;JobRole&#x27;, &#x27;MaritalStatus&#x27;, &#x27;Over18&#x27;]</pre></div></div></div><div class=\"sk-serial\"><div class=\"sk-item\"><div class=\"sk-serial\"><div class=\"sk-item\"><div class=\"sk-estimator sk-toggleable\"><input class=\"sk-toggleable__control sk-hidden--visually\" id=\"sk-estimator-id-18\" type=\"checkbox\" ><label for=\"sk-estimator-id-18\" class=\"sk-toggleable__label sk-toggleable__label-arrow\">SimpleImputer</label><div class=\"sk-toggleable__content\"><pre>SimpleImputer(fill_value=&#x27;missing&#x27;, strategy=&#x27;constant&#x27;)</pre></div></div></div><div class=\"sk-item\"><div class=\"sk-estimator sk-toggleable\"><input class=\"sk-toggleable__control sk-hidden--visually\" id=\"sk-estimator-id-19\" type=\"checkbox\" ><label for=\"sk-estimator-id-19\" class=\"sk-toggleable__label sk-toggleable__label-arrow\">OneHotEncoder</label><div class=\"sk-toggleable__content\"><pre>OneHotEncoder()</pre></div></div></div></div></div></div></div></div></div></div><div class=\"sk-item sk-dashed-wrapped\"><div class=\"sk-label-container\"><div class=\"sk-label sk-toggleable\"><input class=\"sk-toggleable__control sk-hidden--visually\" id=\"sk-estimator-id-20\" type=\"checkbox\" ><label for=\"sk-estimator-id-20\" class=\"sk-toggleable__label sk-toggleable__label-arrow\">RFE: RFE</label><div class=\"sk-toggleable__content\"><pre>RFE(estimator=LogisticRegression())</pre></div></div></div><div class=\"sk-parallel\"><div class=\"sk-parallel-item\"><div class=\"sk-item\"><div class=\"sk-label-container\"><div class=\"sk-label sk-toggleable\"><input class=\"sk-toggleable__control sk-hidden--visually\" id=\"sk-estimator-id-21\" type=\"checkbox\" ><label for=\"sk-estimator-id-21\" class=\"sk-toggleable__label sk-toggleable__label-arrow\">estimator: LogisticRegression</label><div class=\"sk-toggleable__content\"><pre>LogisticRegression()</pre></div></div></div><div class=\"sk-serial\"><div class=\"sk-item\"><div class=\"sk-estimator sk-toggleable\"><input class=\"sk-toggleable__control sk-hidden--visually\" id=\"sk-estimator-id-22\" type=\"checkbox\" ><label for=\"sk-estimator-id-22\" class=\"sk-toggleable__label sk-toggleable__label-arrow\">LogisticRegression</label><div class=\"sk-toggleable__content\"><pre>LogisticRegression()</pre></div></div></div></div></div></div></div></div><div class=\"sk-item\"><div class=\"sk-estimator sk-toggleable\"><input class=\"sk-toggleable__control sk-hidden--visually\" id=\"sk-estimator-id-23\" type=\"checkbox\" ><label for=\"sk-estimator-id-23\" class=\"sk-toggleable__label sk-toggleable__label-arrow\">KNeighborsClassifier</label><div class=\"sk-toggleable__content\"><pre>KNeighborsClassifier()</pre></div></div></div></div></div></div></div>"
      ],
      "text/plain": [
       "Pipeline(steps=[('preprocessor',\n",
       "                 ColumnTransformer(transformers=[('num',\n",
       "                                                  Pipeline(steps=[('imputer',\n",
       "                                                                   SimpleImputer(strategy='median')),\n",
       "                                                                  ('scaler',\n",
       "                                                                   StandardScaler()),\n",
       "                                                                  ('poly',\n",
       "                                                                   PolynomialFeatures())]),\n",
       "                                                  ['Age', 'DistanceFromHome',\n",
       "                                                   'Education', 'JobLevel',\n",
       "                                                   'MonthlyIncome',\n",
       "                                                   'NumCompaniesWorked',\n",
       "                                                   'PercentSalaryHike',\n",
       "                                                   'StockOptionLevel',\n",
       "                                                   'TotalWorkingYears',\n",
       "                                                   'TrainingTime...\n",
       "                                                   'YearsSinceLastPromotion',\n",
       "                                                   'YearsWithCurrManager']),\n",
       "                                                 ('cat',\n",
       "                                                  Pipeline(steps=[('imputer',\n",
       "                                                                   SimpleImputer(fill_value='missing',\n",
       "                                                                                 strategy='constant')),\n",
       "                                                                  ('onehot',\n",
       "                                                                   OneHotEncoder())]),\n",
       "                                                  ['BusinessTravel',\n",
       "                                                   'Department',\n",
       "                                                   'EducationField', 'Gender',\n",
       "                                                   'JobRole', 'MaritalStatus',\n",
       "                                                   'Over18'])])),\n",
       "                ('RFE', RFE(estimator=LogisticRegression())),\n",
       "                ('classifier', KNeighborsClassifier())])"
      ]
     },
     "execution_count": 9,
     "metadata": {},
     "output_type": "execute_result"
    }
   ],
   "source": [
    "from sklearn.feature_selection import RFE\n",
    "from sklearn.linear_model import LogisticRegression\n",
    "\n",
    "numerical = Pipeline(steps=[\n",
    "    ('imputer', SimpleImputer(strategy='median')),\n",
    "    ('scaler', StandardScaler()),\n",
    "    ('poly', PolynomialFeatures(degree=2))])\n",
    "categorical = categorical_transformer = Pipeline(steps=[\n",
    "    ('imputer', SimpleImputer(strategy='constant', fill_value='missing')),\n",
    "    ('onehot', OneHotEncoder())])\n",
    "\n",
    "column_preprocessor = ColumnTransformer(\n",
    "    transformers=[\n",
    "        ('num', numerical, num_cols),\n",
    "        ('cat', categorical, cat_cols)])\n",
    "\n",
    "clf = Pipeline(steps=[('preprocessor', column_preprocessor),\n",
    "                      ('RFE', RFE(LogisticRegression())),\n",
    "                      ('classifier', KNeighborsClassifier())])\n",
    "\n",
    "clf"
   ]
  },
  {
   "cell_type": "code",
   "execution_count": null,
   "id": "d09b397c-86f0-4ca8-bda1-991e9598f226",
   "metadata": {},
   "outputs": [
    {
     "name": "stdout",
     "output_type": "stream",
     "text": [
      "Fitting 3 folds for each of 108 candidates, totalling 324 fits\n"
     ]
    }
   ],
   "source": [
    "param_dict = { \n",
    "    \"preprocessor__num__poly__degree\": [1,2,3],\n",
    "    \"preprocessor__num__imputer__strategy\": [\"mean\", \"median\", \"most_frequent\"],\n",
    "    \"classifier__n_neighbors\": list(range(1,20,5)),\n",
    "    \"classifier__p\": [1,2,3]\n",
    "}\n",
    "\n",
    "grid = GridSearchCV(clf, param_dict, cv=3, verbose=1, n_jobs=-1)\n",
    "best_model = grid.fit(X_train, y_train)"
   ]
  },
  {
   "cell_type": "code",
   "execution_count": 24,
   "id": "84ed856c-80cd-489f-9bb7-3876574141f5",
   "metadata": {},
   "outputs": [
    {
     "name": "stdout",
     "output_type": "stream",
     "text": [
      "0.9931972789115646\n",
      "0.9959839357429718\n",
      "0.9787234042553192\n",
      "              precision    recall  f1-score   support\n",
      "\n",
      "          No       0.99      1.00      1.00       741\n",
      "         Yes       1.00      0.96      0.98       141\n",
      "\n",
      "    accuracy                           0.99       882\n",
      "   macro avg       1.00      0.98      0.99       882\n",
      "weighted avg       0.99      0.99      0.99       882\n",
      "\n"
     ]
    },
    {
     "data": {
      "text/plain": [
       "<sklearn.metrics._plot.confusion_matrix.ConfusionMatrixDisplay at 0x241b1d13df0>"
      ]
     },
     "execution_count": 24,
     "metadata": {},
     "output_type": "execute_result"
    },
    {
     "data": {
      "image/png": "[encoded data removed]",
      "text/plain": [
       "<Figure size 432x288 with 2 Axes>"
      ]
     },
     "metadata": {
      "needs_background": "light"
     },
     "output_type": "display_data"
    }
   ],
   "source": [
    "best_knn = best_model.best_estimator_\n",
    "# neigh.fit(X_train, y_train) \n",
    "y_pred = best_knn.predict(X_test)\n",
    "\n",
    "print(f1_score(y_test, y_pred, average='micro'))\n",
    "print(precision_score(y_test, y_pred, average=\"macro\"))\n",
    "print(recall_score(y_test, y_pred, average=\"macro\"))\n",
    "print(classification_report(y_test,y_pred))\n",
    "\n",
    "plot_confusion_matrix(best_knn, X_test, y_test)"
   ]
  },
  {
   "cell_type": "code",
   "execution_count": null,
   "id": "ea2da049-0046-46d2-9e7b-ef1fddc66bca",
   "metadata": {},
   "outputs": [],
   "source": []
  }
 ],
 "metadata": {
  "kernelspec": {
   "display_name": "Python 3 (ipykernel)",
   "language": "python",
   "name": "python3"
  },
  "language_info": {
   "codemirror_mode": {
    "name": "ipython",
    "version": 3
   },
   "file_extension": ".py",
   "mimetype": "text/x-python",
   "name": "python",
   "nbconvert_exporter": "python",
   "pygments_lexer": "ipython3",
   "version": "3.11.0"
  }
 },
 "nbformat": 4,
 "nbformat_minor": 5
}
