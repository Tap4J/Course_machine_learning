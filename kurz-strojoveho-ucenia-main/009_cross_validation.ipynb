{
 "cells": [
  {
   "cell_type": "markdown",
   "id": "966d9182-4086-434c-8239-af29119e2547",
   "metadata": {},
   "source": [
    "# Krížová validácia\n",
    "Aký je problém s týmto riešením? "
   ]
  },
  {
   "cell_type": "code",
   "execution_count": 4,
   "id": "a32e6479-2bf7-4148-9aeb-3e914b4b9677",
   "metadata": {},
   "outputs": [],
   "source": [
    "import pandas as pd\n",
    "import matplotlib.pyplot as plt\n",
    "\n",
    "from sklearn.neighbors import KNeighborsClassifier\n",
    "from sklearn.model_selection import train_test_split\n",
    "from sklearn.metrics import f1_score, accuracy_score, f1_score, precision_score, recall_score, classification_report, confusion_matrix, ConfusionMatrixDisplay"
   ]
  },
  {
   "cell_type": "code",
   "execution_count": 5,
   "id": "a8ac09bb-e4c6-4e65-99fb-7a081cfc0ad0",
   "metadata": {},
   "outputs": [],
   "source": [
    "df = pd.read_csv(\"processed_data/numerical.csv\", index_col=\"EmployeeID\")\n",
    "X = df[df.columns.difference(['Attrition_num'])]\n",
    "y = df['Attrition_num']"
   ]
  },
  {
   "cell_type": "code",
   "execution_count": 11,
   "id": "88a6fc6e-d42a-4b49-adb6-b0301ca98e28",
   "metadata": {},
   "outputs": [
    {
     "name": "stdout",
     "output_type": "stream",
     "text": [
      "0.9247434435575826\n",
      "0.8428997937248941\n",
      "0.8428997937248941\n",
      "              precision    recall  f1-score   support\n",
      "\n",
      "           0       0.96      0.96      0.96       755\n",
      "           1       0.73      0.73      0.73       122\n",
      "\n",
      "    accuracy                           0.92       877\n",
      "   macro avg       0.84      0.84      0.84       877\n",
      "weighted avg       0.92      0.92      0.92       877\n",
      "\n"
     ]
    },
    {
     "data": {
      "text/plain": [
       "<sklearn.metrics._plot.confusion_matrix.ConfusionMatrixDisplay at 0x1b43d08f550>"
      ]
     },
     "execution_count": 11,
     "metadata": {},
     "output_type": "execute_result"
    },
    {
     "data": {
      "image/png": "[encoded data removed]",
      "text/plain": [
       "<Figure size 1000x500 with 2 Axes>"
      ]
     },
     "metadata": {},
     "output_type": "display_data"
    }
   ],
   "source": [
    "X_train, X_test, y_train, y_test = train_test_split(X, y, test_size=0.20, random_state=42)\n",
    "\n",
    "neigh = KNeighborsClassifier(n_neighbors=3)\n",
    "neigh.fit(X_train, y_train)\n",
    "y_pred = neigh.predict(X_test)\n",
    "\n",
    "plt.rcParams['figure.figsize'] = 10, 5\n",
    "\n",
    "print(f1_score(y_test, y_pred, average='micro'))\n",
    "print(precision_score(y_test, y_pred, average=\"macro\"))\n",
    "print(recall_score(y_test, y_pred, average=\"macro\"))\n",
    "\n",
    "print(classification_report(y_test,y_pred))\n",
    "ConfusionMatrixDisplay.from_predictions(y_test, y_pred)"
   ]
  },
  {
   "cell_type": "markdown",
   "id": "1d6ecbc0-f3b4-4281-8d9c-f42bca2c6762",
   "metadata": {},
   "source": [
    "__Pretrénovanie__ (overfitting) je stav kedy sa klasifikátor prispôsobí na testovaciu vzorku. V tomto stave namusí byť užitoční pre predikciu v praxi."
   ]
  },
  {
   "cell_type": "markdown",
   "id": "ddeb41e2-321c-4d15-9f90-90c40d546a6a",
   "metadata": {},
   "source": [
    "# 1 validačná vzorka\n",
    "Vezmeme trénovaciu sadu rozdelíme ju 80 na 20 a klasifikátor optimalizujeme na validačnéj vzorke. Tento prístup je veľmi jednoduchý no môže mať viacero problémov. Jeden z najväčších je že nemusíme mať dostatočne veľa dát. "
   ]
  },
  {
   "cell_type": "markdown",
   "id": "7022760d-f926-432a-ba0b-a774b01b2191",
   "metadata": {},
   "source": [
    "# 2 Krížová validácia (cross validation)\n",
    "<img src=\"assets/cross_validation.png\" width=\"500\" height=\"500\">\n",
    "\n",
    "[Zdroj obrázku](https://scikit-learn.org/stable/modules/cross_validation.html)"
   ]
  },
  {
   "cell_type": "markdown",
   "id": "dcc39652-7fed-480f-a544-c2af84e9a8c6",
   "metadata": {},
   "source": [
    "# K-fold corss validation\n",
    "Vytvoríme k takýchto skupín"
   ]
  },
  {
   "cell_type": "code",
   "execution_count": 16,
   "id": "9e129b35-56a1-45f1-8baa-65a2c7713f56",
   "metadata": {},
   "outputs": [
    {
     "data": {
      "text/plain": [
       "array([0.87161198, 0.86590585, 0.88873039, 0.85734665, 0.86447932])"
      ]
     },
     "execution_count": 16,
     "metadata": {},
     "output_type": "execute_result"
    }
   ],
   "source": [
    "from sklearn.model_selection import cross_val_score\n",
    "scores = cross_val_score(neigh, X_train, y_train, cv=5) # default f1_micro pre knn\n",
    "scores"
   ]
  },
  {
   "cell_type": "code",
   "execution_count": 14,
   "id": "2ae76bb7-9c40-4865-bd15-53120557db82",
   "metadata": {},
   "outputs": [
    {
     "data": {
      "text/plain": [
       "array([0.76757294, 0.74660052, 0.78492873, 0.70840266, 0.75032337])"
      ]
     },
     "execution_count": 14,
     "metadata": {},
     "output_type": "execute_result"
    }
   ],
   "source": [
    "from sklearn.model_selection import cross_val_score\n",
    "scores = cross_val_score(neigh, X_train, y_train, cv=5, scoring=\"f1_macro\")\n",
    "scores"
   ]
  },
  {
   "cell_type": "markdown",
   "id": "520f0e0c-5b11-4670-83c5-9bf942ebdbf2",
   "metadata": {},
   "source": [
    "__Základom je nepoužívať testovaciu sadu pri porovnávaní klasifikátorov__ (testovacia sada má odzrkadľovať skutočný život, kde dáta nikdy vopred nepoznáme)"
   ]
  },
  {
   "cell_type": "markdown",
   "id": "c9fc4efb-cd56-42a8-823e-1806e32afb71",
   "metadata": {},
   "source": [
    "# Leave one out\n",
    "Máme vždy n skupín kde n je počet pozorovaní. V tomto prípade je trénovanie na všetkých dát okrem toho jedného pozorvania na ktorom to vyhodnocujeme. "
   ]
  },
  {
   "cell_type": "code",
   "execution_count": 10,
   "id": "aea0f012-93b2-49df-9dd6-d7c8ac198418",
   "metadata": {},
   "outputs": [
    {
     "name": "stdout",
     "output_type": "stream",
     "text": [
      "[1 2 3 4 5 6 7 8 9] [0]\n",
      "[0 2 3 4 5 6 7 8 9] [1]\n",
      "[0 1 3 4 5 6 7 8 9] [2]\n",
      "[0 1 2 4 5 6 7 8 9] [3]\n",
      "[0 1 2 3 5 6 7 8 9] [4]\n",
      "[0 1 2 3 4 6 7 8 9] [5]\n",
      "[0 1 2 3 4 5 7 8 9] [6]\n",
      "[0 1 2 3 4 5 6 8 9] [7]\n",
      "[0 1 2 3 4 5 6 7 9] [8]\n",
      "[0 1 2 3 4 5 6 7 8] [9]\n"
     ]
    }
   ],
   "source": [
    "from sklearn.model_selection import LeaveOneOut\n",
    "\n",
    "loo = LeaveOneOut()\n",
    "\n",
    "X=X_train.values\n",
    "y=y_train.values\n",
    "\n",
    "y_pred=[]\n",
    "y_true=[]\n",
    "\n",
    "\n",
    "for train_index, test_index in loo.split(X[:10]):\n",
    "    print(train_index, test_index)\n",
    "    neigh = KNeighborsClassifier(n_neighbors=3)\n",
    "    X_temp_train, X_temp_test = X[train_index], X[test_index]\n",
    "    y_temp_train, y_temp_test = y[train_index], y[test_index]\n",
    "    neigh.fit(X_temp_train, y_temp_train)\n",
    "    y_pred_one=neigh.predict(X_temp_test)\n",
    "    y_pred.append(y_pred_one[0])\n",
    "    y_true.append(y_temp_test[0])"
   ]
  },
  {
   "cell_type": "code",
   "execution_count": 12,
   "id": "a335c41a-a207-4643-956f-04af3b01131d",
   "metadata": {},
   "outputs": [
    {
     "data": {
      "text/plain": [
       "[0, 0, 0, 0, 0, 0, 0, 0, 0, 0]"
      ]
     },
     "execution_count": 12,
     "metadata": {},
     "output_type": "execute_result"
    }
   ],
   "source": [
    "y_true"
   ]
  },
  {
   "cell_type": "markdown",
   "id": "310528be-f8cd-4996-af76-0a522d55af09",
   "metadata": {},
   "source": [
    "# 3 Stratifikovane prístupy\n",
    "Niekedy chceme aby sa v každom fold zachoval relatívny počet pozorvaní pre kaźdú triedu. Predchádzajúce prístupy len nakrájajú dataset ako koláč. Stratifikované prístupy však toto rozloženie zaručujú. Príklady:\n",
    "- Stratiffied K-fold\n",
    "- Straytiffied Leave P Out "
   ]
  }
 ],
 "metadata": {
  "kernelspec": {
   "display_name": "Python 3 (ipykernel)",
   "language": "python",
   "name": "python3"
  },
  "language_info": {
   "codemirror_mode": {
    "name": "ipython",
    "version": 3
   },
   "file_extension": ".py",
   "mimetype": "text/x-python",
   "name": "python",
   "nbconvert_exporter": "python",
   "pygments_lexer": "ipython3",
   "version": "3.11.0"
  }
 },
 "nbformat": 4,
 "nbformat_minor": 5
}
